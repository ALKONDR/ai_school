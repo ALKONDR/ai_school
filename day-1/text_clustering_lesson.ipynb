{
 "cells": [
  {
   "cell_type": "code",
   "execution_count": 1,
   "metadata": {},
   "outputs": [],
   "source": [
    "documents = [\"This little kitty came to play when I was eating at a restaurant.\",\n",
    "             \"Merley has the best squooshy kitten belly.\",\n",
    "             \"Google Translate app is incredible.\",\n",
    "             \"If you open 100 tab in google you get a smiley face.\",\n",
    "             \"Best cat photo I've ever taken.\",\n",
    "             \"Climbing ninja cat.\",\n",
    "             \"Impressed with google map feedback.\",\n",
    "             \"Key promoter extension for Google Chrome.\"]"
   ]
  },
  {
   "cell_type": "code",
   "execution_count": 2,
   "metadata": {},
   "outputs": [],
   "source": [
    "from sklearn.feature_extraction.text import TfidfVectorizer"
   ]
  },
  {
   "cell_type": "code",
   "execution_count": 3,
   "metadata": {},
   "outputs": [],
   "source": [
    "from sklearn.cluster import KMeans"
   ]
  },
  {
   "cell_type": "code",
   "execution_count": 4,
   "metadata": {},
   "outputs": [],
   "source": [
    "vectorizer = TfidfVectorizer(stop_words='english')\n",
    "X = vectorizer.fit_transform(documents)"
   ]
  },
  {
   "cell_type": "code",
   "execution_count": 12,
   "metadata": {},
   "outputs": [
    {
     "data": {
      "text/plain": [
       "KMeans(algorithm='auto', copy_x=True, init='k-means++', max_iter=100,\n",
       "    n_clusters=3, n_init=1, n_jobs=None, precompute_distances='auto',\n",
       "    random_state=None, tol=0.0001, verbose=0)"
      ]
     },
     "execution_count": 12,
     "metadata": {},
     "output_type": "execute_result"
    }
   ],
   "source": [
    "true_k = 3\n",
    "model = KMeans(n_clusters=true_k, init='k-means++', max_iter=100, n_init=1)\n",
    "model.fit(X)"
   ]
  },
  {
   "cell_type": "code",
   "execution_count": 13,
   "metadata": {},
   "outputs": [
    {
     "name": "stdout",
     "output_type": "stream",
     "text": [
      "Top terms per cluster:\n",
      "Cluster 0:\n",
      " cat\n",
      " ninja\n",
      " climbing\n",
      " ve\n",
      " photo\n",
      "Cluster 1:\n",
      " google\n",
      " feedback\n",
      " map\n",
      " app\n",
      " impressed\n",
      "Cluster 2:\n",
      " kitten\n",
      " belly\n",
      " squooshy\n",
      " merley\n",
      " eating\n"
     ]
    }
   ],
   "source": [
    "print(\"Top terms per cluster:\")\n",
    "order_centroids = model.cluster_centers_.argsort()[:, ::-1]\n",
    "\n",
    "terms = vectorizer.get_feature_names()\n",
    "\n",
    "for i in range(true_k):\n",
    "    print(\"Cluster %d:\" % i)\n",
    "    for ind in order_centroids[i, :5]:\n",
    "        print(' %s' % terms[ind])"
   ]
  },
  {
   "cell_type": "code",
   "execution_count": 14,
   "metadata": {},
   "outputs": [
    {
     "name": "stdout",
     "output_type": "stream",
     "text": [
      "Prediction\n",
      "[1]\n"
     ]
    }
   ],
   "source": [
    "print(\"Prediction\")\n",
    "\n",
    "Y = vectorizer.transform([\"chrome browser to open.\"])\n",
    "prediction = model.predict(Y)\n",
    "print(prediction)"
   ]
  },
  {
   "cell_type": "code",
   "execution_count": 15,
   "metadata": {},
   "outputs": [
    {
     "name": "stdout",
     "output_type": "stream",
     "text": [
      "[0]\n"
     ]
    }
   ],
   "source": [
    "Y = vectorizer.transform([\"My cat is hungry.\"])\n",
    "prediction = model.predict(Y)\n",
    "print(prediction)"
   ]
  },
  {
   "cell_type": "code",
   "execution_count": 17,
   "metadata": {},
   "outputs": [
    {
     "data": {
      "text/plain": [
       "array([[0.        , 0.        , 0.        , 0.19966128, 0.        ,\n",
       "        0.45456823, 0.        , 0.30415658, 0.        , 0.        ,\n",
       "        0.        , 0.        , 0.        , 0.        , 0.        ,\n",
       "        0.        , 0.        , 0.        , 0.        , 0.        ,\n",
       "        0.        , 0.30415658, 0.        , 0.2382371 , 0.        ,\n",
       "        0.        , 0.        , 0.        , 0.        , 0.        ,\n",
       "        0.2382371 , 0.        , 0.2382371 ],\n",
       "       [0.10756238, 0.13554052, 0.        , 0.        , 0.        ,\n",
       "        0.        , 0.11915496, 0.        , 0.        , 0.11915496,\n",
       "        0.10756238, 0.13554052, 0.31564425, 0.13554052, 0.13554052,\n",
       "        0.11915496, 0.        , 0.        , 0.        , 0.13554052,\n",
       "        0.        , 0.        , 0.10756238, 0.        , 0.        ,\n",
       "        0.11915496, 0.        , 0.10756238, 0.        , 0.10756238,\n",
       "        0.        , 0.13554052, 0.        ],\n",
       "       [0.        , 0.        , 0.23057456, 0.19323947, 0.20412415,\n",
       "        0.        , 0.        , 0.        , 0.20412415, 0.        ,\n",
       "        0.        , 0.        , 0.        , 0.        , 0.        ,\n",
       "        0.        , 0.23057456, 0.20412415, 0.20412415, 0.        ,\n",
       "        0.23057456, 0.        , 0.        , 0.        , 0.20412415,\n",
       "        0.        , 0.20412415, 0.        , 0.23057456, 0.        ,\n",
       "        0.        , 0.        , 0.        ]])"
      ]
     },
     "execution_count": 17,
     "metadata": {},
     "output_type": "execute_result"
    }
   ],
   "source": [
    "model.cluster_centers_"
   ]
  },
  {
   "cell_type": "code",
   "execution_count": 19,
   "metadata": {},
   "outputs": [
    {
     "name": "stdout",
     "output_type": "stream",
     "text": [
      "  (0, 18)\t0.408248290463863\n",
      "  (0, 17)\t0.408248290463863\n",
      "  (0, 4)\t0.408248290463863\n",
      "  (0, 24)\t0.408248290463863\n",
      "  (0, 8)\t0.408248290463863\n",
      "  (0, 26)\t0.408248290463863\n"
     ]
    }
   ],
   "source": [
    "print(X[0])"
   ]
  },
  {
   "cell_type": "code",
   "execution_count": 29,
   "metadata": {},
   "outputs": [],
   "source": [
    "from gensim.models import Word2Vec"
   ]
  },
  {
   "cell_type": "code",
   "execution_count": 23,
   "metadata": {},
   "outputs": [],
   "source": [
    "sentences = []\n",
    "\n",
    "for d in documents:\n",
    "    d = d.lower()\n",
    "    d = d.replace('.', '')\n",
    "    sentences.append(d.split(' '))"
   ]
  },
  {
   "cell_type": "code",
   "execution_count": 33,
   "metadata": {
    "scrolled": true
   },
   "outputs": [
    {
     "data": {
      "text/plain": [
       "[['this',\n",
       "  'little',\n",
       "  'kitty',\n",
       "  'came',\n",
       "  'to',\n",
       "  'play',\n",
       "  'when',\n",
       "  'i',\n",
       "  'was',\n",
       "  'eating',\n",
       "  'at',\n",
       "  'a',\n",
       "  'restaurant'],\n",
       " ['merley', 'has', 'the', 'best', 'squooshy', 'kitten', 'belly'],\n",
       " ['google', 'translate', 'app', 'is', 'incredible'],\n",
       " ['if',\n",
       "  'you',\n",
       "  'open',\n",
       "  '100',\n",
       "  'tab',\n",
       "  'in',\n",
       "  'google',\n",
       "  'you',\n",
       "  'get',\n",
       "  'a',\n",
       "  'smiley',\n",
       "  'face'],\n",
       " ['best', 'cat', 'photo', \"i've\", 'ever', 'taken'],\n",
       " ['climbing', 'ninja', 'cat'],\n",
       " ['impressed', 'with', 'google', 'map', 'feedback'],\n",
       " ['key', 'promoter', 'extension', 'for', 'google', 'chrome']]"
      ]
     },
     "execution_count": 33,
     "metadata": {},
     "output_type": "execute_result"
    }
   ],
   "source": [
    "sentences"
   ]
  },
  {
   "cell_type": "code",
   "execution_count": 46,
   "metadata": {},
   "outputs": [],
   "source": [
    "from gensim.models import Word2Vec\n",
    "model = Word2Vec(sentences, min_count=1, size=4, window=5)"
   ]
  },
  {
   "cell_type": "code",
   "execution_count": 47,
   "metadata": {},
   "outputs": [
    {
     "name": "stderr",
     "output_type": "stream",
     "text": [
      "/Users/aleksandrkondraskin/anaconda3/lib/python3.6/site-packages/ipykernel_launcher.py:1: DeprecationWarning: Call to deprecated `most_similar` (Method will be removed in 4.0.0, use self.wv.most_similar() instead).\n",
      "  \"\"\"Entry point for launching an IPython kernel.\n"
     ]
    },
    {
     "data": {
      "text/plain": [
       "[('best', 0.9389210343360901),\n",
       " ('i', 0.8891955614089966),\n",
       " ('promoter', 0.8649388551712036),\n",
       " ('cat', 0.8393896818161011),\n",
       " ('face', 0.8013988137245178),\n",
       " ('impressed', 0.7743403911590576),\n",
       " ('the', 0.7255948185920715),\n",
       " ('when', 0.7229304313659668),\n",
       " ('kitty', 0.6918233036994934),\n",
       " ('ever', 0.6468441486358643)]"
      ]
     },
     "execution_count": 47,
     "metadata": {},
     "output_type": "execute_result"
    }
   ],
   "source": [
    "model.most_similar('google')"
   ]
  },
  {
   "cell_type": "code",
   "execution_count": 48,
   "metadata": {},
   "outputs": [
    {
     "data": {
      "text/plain": [
       "array([-0.02819589, -0.05960035, -0.06836702, -0.08240619], dtype=float32)"
      ]
     },
     "execution_count": 48,
     "metadata": {},
     "output_type": "execute_result"
    }
   ],
   "source": [
    "model.wv['google']"
   ]
  },
  {
   "cell_type": "code",
   "execution_count": null,
   "metadata": {},
   "outputs": [],
   "source": []
  }
 ],
 "metadata": {
  "kernelspec": {
   "display_name": "Python 3",
   "language": "python",
   "name": "python3"
  },
  "language_info": {
   "codemirror_mode": {
    "name": "ipython",
    "version": 3
   },
   "file_extension": ".py",
   "mimetype": "text/x-python",
   "name": "python",
   "nbconvert_exporter": "python",
   "pygments_lexer": "ipython3",
   "version": "3.6.4"
  }
 },
 "nbformat": 4,
 "nbformat_minor": 2
}
